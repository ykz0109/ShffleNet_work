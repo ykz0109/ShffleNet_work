{
 "cells": [
  {
   "cell_type": "code",
   "execution_count": 8,
   "id": "b2821cc5",
   "metadata": {},
   "outputs": [
    {
     "name": "stdout",
     "output_type": "stream",
     "text": [
      "The nbimporter module is not an IPython extension.\n",
      "Epoch 1, Loss: 6.9321678429841995\n",
      "Epoch 2, Loss: 6.876694455742836\n",
      "Epoch 3, Loss: 6.823976039886475\n",
      "Epoch 4, Loss: 6.781430810689926\n",
      "Epoch 5, Loss: 6.755142405629158\n",
      "Epoch 6, Loss: 6.713146954774857\n",
      "Epoch 7, Loss: 6.687558740377426\n",
      "Epoch 8, Loss: 6.655869677662849\n",
      "Epoch 9, Loss: 6.637718424201012\n",
      "Epoch 10, Loss: 6.620083764195442\n",
      "Accuracy of the network on the test images: 0.0%\n"
     ]
    }
   ],
   "source": [
    "import torch\n",
    "import torch.optim as optim\n",
    "import torchvision.transforms as transforms\n",
    "from torchvision.datasets import FakeData\n",
    "from torch.utils.data import DataLoader\n",
    "from torch import nn\n",
    "\n",
    "%load_ext nbimporter\n",
    "from ShffleNet import ShffleNet\n",
    "\n",
    "# 设定图像大小和归一化参数\n",
    "image_size = (224, 224)\n",
    "transform = transforms.Compose([\n",
    "    transforms.Resize(image_size),\n",
    "    transforms.ToTensor(),\n",
    "    transforms.Normalize(mean=[0.485, 0.456, 0.406], std=[0.229, 0.224, 0.225]),\n",
    "])\n",
    "\n",
    "# 生成模拟训练和测试数据集\n",
    "train_dataset = FakeData(size=1000, image_size=(3, *image_size), num_classes=1000, transform=transform)\n",
    "test_dataset = FakeData(size=100, image_size=(3, *image_size), num_classes=1000, transform=transform)\n",
    "\n",
    "# 数据加载器\n",
    "train_loader = DataLoader(train_dataset, batch_size=32, shuffle=True, num_workers=4)\n",
    "test_loader = DataLoader(test_dataset, batch_size=32, shuffle=False, num_workers=4)\n",
    "\n",
    "# 初始化模型和优化器\n",
    "model = ShffleNet(num_classes=1000, groups=3)\n",
    "device = torch.device(\"cuda:0\" if torch.cuda.is_available() else \"cpu\")\n",
    "model.to(device)\n",
    "optimizer = optim.SGD(model.parameters(), lr=0.001, momentum=0.9)\n",
    "criterion = nn.CrossEntropyLoss()\n",
    "\n",
    "# 训练循环\n",
    "num_epochs = 10\n",
    "for epoch in range(num_epochs):\n",
    "    running_loss = 0.0\n",
    "    for i, data in enumerate(train_loader, 0):\n",
    "        inputs, labels = data\n",
    "        inputs, labels = inputs.to(device), labels.to(device)\n",
    "\n",
    "        optimizer.zero_grad()\n",
    "\n",
    "        outputs = model(inputs)\n",
    "        loss = criterion(outputs, labels)\n",
    "        loss.backward()\n",
    "        optimizer.step()\n",
    "\n",
    "        running_loss += loss.item()\n",
    "    print(f'Epoch {epoch + 1}, Loss: {running_loss / (i + 1)}')\n",
    "\n",
    "# 测试循环\n",
    "correct = 0\n",
    "total = 0\n",
    "with torch.no_grad():\n",
    "    for data in test_loader:\n",
    "        images, labels = data\n",
    "        images, labels = images.to(device), labels.to(device)\n",
    "        outputs = model(images)\n",
    "        _, predicted = torch.max(outputs.data, 1)\n",
    "        total += labels.size(0)\n",
    "        correct += (predicted == labels).sum().item()\n",
    "\n",
    "print(f'Accuracy of the network on the test images: {100 * correct / total}%')"
   ]
  },
  {
   "cell_type": "code",
   "execution_count": null,
   "id": "27a5450e",
   "metadata": {},
   "outputs": [],
   "source": []
  },
  {
   "cell_type": "code",
   "execution_count": null,
   "id": "a46e1185",
   "metadata": {},
   "outputs": [],
   "source": []
  }
 ],
 "metadata": {
  "kernelspec": {
   "display_name": "Python [conda env:pytorch] *",
   "language": "python",
   "name": "conda-env-pytorch-py"
  },
  "language_info": {
   "codemirror_mode": {
    "name": "ipython",
    "version": 3
   },
   "file_extension": ".py",
   "mimetype": "text/x-python",
   "name": "python",
   "nbconvert_exporter": "python",
   "pygments_lexer": "ipython3",
   "version": "3.9.20"
  }
 },
 "nbformat": 4,
 "nbformat_minor": 5
}
